{
 "cells": [
  {
   "cell_type": "code",
   "execution_count": 1,
   "id": "d806def4-6f53-495b-ba43-310241d9d572",
   "metadata": {},
   "outputs": [
    {
     "name": "stderr",
     "output_type": "stream",
     "text": [
      "WARNING:py.warnings:/tmp/ipykernel_1271/1468472282.py:14: PyVistaDeprecationWarning: `pythreejs` backend is deprecated and is planned for future removal.\n",
      "  pyvista.set_jupyter_backend('pythreejs');\n",
      "\n"
     ]
    }
   ],
   "source": [
    "import numpy as np\n",
    "import ufl\n",
    "\n",
    "from mpi4py import MPI\n",
    "from petsc4py.PETSc import ScalarType\n",
    "\n",
    "from dolfinx import mesh, fem, plot, io\n",
    "from dolfinx.io import XDMFFile, gmshio\n",
    "\n",
    "import gmsh\n",
    "\n",
    "import pyvista\n",
    "# pyvista.set_jupyter_backend('panel');\n",
    "pyvista.set_jupyter_backend('pythreejs');\n",
    "# pyvista.set_jupyter_backend('ipygany')"
   ]
  },
  {
   "cell_type": "markdown",
   "id": "7793d7b2-dde7-4833-a0fc-a72efdc7d5c6",
   "metadata": {},
   "source": [
    "Defining the phisical properties of fibres"
   ]
  },
  {
   "cell_type": "code",
   "execution_count": 2,
   "id": "66cd7795-695e-407c-9188-8da498b3e48c",
   "metadata": {},
   "outputs": [],
   "source": [
    "ν = 0.3\n",
    "E = 2.1e10\n",
    "\n",
    "λ = ν*E/(1+ν)/(1-2*ν)\n",
    "μ = E/2/(1+ν)\n",
    "\n",
    "ORDER = 2"
   ]
  },
  {
   "cell_type": "code",
   "execution_count": 3,
   "id": "9a8eb1a5-9239-4fea-80eb-a9d1b116d8eb",
   "metadata": {},
   "outputs": [
    {
     "data": {
      "application/vnd.jupyter.widget-view+json": {
       "model_id": "62c6b89bbc3542368b56a8cf104cf2f5",
       "version_major": 2,
       "version_minor": 0
      },
      "text/plain": [
       "Renderer(camera=PerspectiveCamera(children=(DirectionalLight(intensity=0.25, position=(0.0, 0.0, 100000.0), qu…"
      ]
     },
     "metadata": {},
     "output_type": "display_data"
    }
   ],
   "source": [
    "## Setting up gmsh properties\n",
    "gmsh.initialize()\n",
    "\n",
    "# Choose if Gmsh output is verbose\n",
    "gmsh.option.setNumber(\"General.Terminal\", 0)\n",
    "\n",
    "# Set elements order to the specified one\n",
    "gmsh.option.setNumber(\"Mesh.ElementOrder\", ORDER)\n",
    "# Set elements size\n",
    "# gmsh.option.setNumber(\"Mesh.MeshSizeFromCurvature\", 5) # uncomment to use for mesh refinement dependending from its surface curvature\n",
    "gmsh.option.setNumber(\"Mesh.MeshSizeMax\", 5e-2)\n",
    "gmsh.option.setNumber(\"Mesh.MeshSizeMin\", 1e-2)\n",
    "\n",
    "# Set threads number for distrebuted meshing\n",
    "# gmsh.option.setNumber(\"Mesh.MaxNumThreads3D\", 4)\n",
    "\n",
    "# Set mesh algorithm (default is Delaunay triangulation)\n",
    "# see https://gmsh.info/doc/texinfo/gmsh.html#Choosing-the-right-unstructured-algorithm\n",
    "gmsh.option.setNumber(\"Mesh.Algorithm3D\", 3)\n",
    "\n",
    "# gmsh.option.setNumber(\"Mesh.RecombinationAlgorithm\",3)\n",
    "# gmsh.option.setNumber(\"Mesh.Recombine3DAll\",1)\n",
    "\n",
    "# Set the usage of hexahedron elements \n",
    "gmsh.option.setNumber(\"Mesh.SubdivisionAlgorithm\", 0)\n",
    "## Importing RVE geometry\n",
    "gmsh.open(\"in/test_rve(tet10)_1.msh\")\n",
    "\n",
    "model = gmsh.model()\n",
    "# model.add(\"main_domain\")\n",
    "model_name = model.getCurrent()\n",
    "tags = [dimtag[1] for dimtag in model.get_entities(3)]\n",
    "\n",
    "model.add_physical_group(dim=3, tags=tags)\n",
    "\n",
    "\n",
    "# Synchronize OpenCascade representation with gmsh model\n",
    "model.occ.synchronize()\n",
    "\n",
    "\n",
    "# Generate the mesh\n",
    "# model.mesh.generate(2)\n",
    "# model.mesh.recombine()\n",
    "model.mesh.generate(dim=3)\n",
    "\n",
    "bbox = [np.Inf,\n",
    "        np.Inf,\n",
    "        np.Inf,\n",
    "        -np.Inf,\n",
    "        -np.Inf,\n",
    "        -np.Inf]\n",
    "for tag in tags:\n",
    "    buf_bbox = model.get_bounding_box(3, tag)\n",
    "    for i in range(3):\n",
    "        if bbox[i] > buf_bbox[i]:\n",
    "            bbox[i] = buf_bbox[i]\n",
    "    for j in range(3,6):\n",
    "        if bbox[j] < buf_bbox[j]:\n",
    "            bbox[j] = buf_bbox[j]\n",
    "            \n",
    "            \n",
    "# Create a DOLFINx mesh (same mesh on each rank)\n",
    "msh, cell_markers, facet_markers = gmshio.model_to_mesh(model, MPI.COMM_SELF,0)\n",
    "msh.name = \"Box\"\n",
    "cell_markers.name = f\"{msh.name}_cells\"\n",
    "facet_markers.name = f\"{msh.name}_facets\"\n",
    "\n",
    "# Finalize gmsh to be able to use it again\n",
    "gmsh.finalize()\n",
    "\n",
    "\n",
    "with io.XDMFFile(msh.comm, \"out/imported_mesh.xdmf\", \"w\") as file:\n",
    "    file.write_mesh(msh)\n",
    "    file.write_meshtags(cell_markers)\n",
    "    msh.topology.create_connectivity(msh.topology.dim - 1, msh.topology.dim)\n",
    "    file.write_meshtags(facet_markers)\n",
    "\n",
    "    \n",
    "# visualize using pyvista\n",
    "# to use it, ipycanvas and ipyvtklink py needs to be installed\n",
    "# Just run in terminal:\n",
    "# ~# pip install ipyvtklink ipycanvas\n",
    "pyvista.start_xvfb()\n",
    "\n",
    "# Create plotter and pyvista grid\n",
    "p = pyvista.Plotter(window_size=[400, 400])\n",
    "topology, cell_types, geometry = plot.create_vtk_mesh(msh)\n",
    "grid = pyvista.UnstructuredGrid(topology, cell_types, geometry)\n",
    "\n",
    "actor_0 = p.add_mesh(grid, show_edges=True)#style=\"wireframe\", color=\"k\")\n",
    "\n",
    "p.show_axes()\n",
    "if not pyvista.OFF_SCREEN:\n",
    "   p.show()\n",
    "else:\n",
    "   figure_as_array = p.screenshot(\"mesh.png\")"
   ]
  },
  {
   "cell_type": "code",
   "execution_count": 4,
   "id": "aaa59723-eb30-44e0-b685-098abe98edba",
   "metadata": {},
   "outputs": [],
   "source": [
    "# T = fem.Constant(msh, ScalarType((0., 0., 0.)))\n",
    "# ds = ufl.Measure(\"ds\", domain=msh)\n",
    "def epsilon(u):\n",
    "    return ufl.sym(ufl.grad(u)) # Equivalent to 0.5*(ufl.nabla_grad(u) + ufl.nabla_grad(u).T)\n",
    "def sigma(u):\n",
    "    return λ * ufl.nabla_div(u) * ufl.Identity(len(u)) + 2*μ*epsilon(u)\n",
    "\n",
    "\n",
    "V = fem.VectorFunctionSpace(msh, (\"CG\", ORDER))\n",
    "u = ufl.TrialFunction(V)\n",
    "v = ufl.TestFunction(V)\n",
    "f = fem.Constant(msh, ScalarType((0., 0., 0.)))\n",
    "a = ufl.inner(sigma(u), epsilon(v)) * ufl.dx\n",
    "L = ufl.dot(f, v) * ufl.dx #+ ufl.dot(T, v) * ds"
   ]
  },
  {
   "cell_type": "markdown",
   "id": "ea11b63c-5999-41fc-8b1b-51a66f29872b",
   "metadata": {},
   "source": [
    "Marking nodes on each side of the RVE by following:\n",
    "- left (x = -1) - 1;\n",
    "- right (x = 1) - 2;\n",
    "- bottom (z = -1) - 3;\n",
    "- top (z = 1) - 4;\n",
    "- front (y = -1) - 5;\n",
    "- back (y = 1) - 6;"
   ]
  },
  {
   "cell_type": "code",
   "execution_count": 5,
   "id": "dad264d1-708e-4224-8ac6-2f2594195d78",
   "metadata": {},
   "outputs": [
    {
     "data": {
      "text/plain": [
       "<function numpy.isclose(a, b, rtol=1e-05, atol=1e-08, equal_nan=False)>"
      ]
     },
     "execution_count": 5,
     "metadata": {},
     "output_type": "execute_result"
    }
   ],
   "source": [
    "eps = np.linalg.norm(np.array(bbox[0:3]) + np.array(bbox[3:]));\n",
    "np.isclose"
   ]
  },
  {
   "cell_type": "code",
   "execution_count": 16,
   "id": "ee9a4195-3d0e-4120-a897-50d5cca4b3c4",
   "metadata": {},
   "outputs": [
    {
     "data": {
      "text/plain": [
       "[-1.000000000000003,\n",
       " -1.000000000000001,\n",
       " -1.000000000000048,\n",
       " 1.000000000000001,\n",
       " 1.004077872060019,\n",
       " 1.000000000011717]"
      ]
     },
     "execution_count": 16,
     "metadata": {},
     "output_type": "execute_result"
    }
   ],
   "source": [
    "bbox"
   ]
  },
  {
   "cell_type": "code",
   "execution_count": 6,
   "id": "89f4d5e7-3ec0-4fb1-8f14-f0218b552fc9",
   "metadata": {},
   "outputs": [],
   "source": [
    "def left(x):\n",
    "    return np.isclose(x[0], bbox[0], atol = eps);\n",
    "\n",
    "def right(x):\n",
    "    return np.isclose(x[0], bbox[3], atol = eps);\n",
    "\n",
    "def bottom(x):\n",
    "    return np.isclose(x[2], bbox[2], atol = eps);\n",
    "\n",
    "def top(x):\n",
    "    return np.isclose(x[2], bbox[5], atol = eps);\n",
    "\n",
    "def front(x):\n",
    "    return np.isclose(x[1], bbox[1], atol = eps);\n",
    "\n",
    "def back(x):\n",
    "    return np.isclose(x[1], bbox[4], atol = eps);\n",
    "\n",
    "fdim = msh.topology.dim - 1\n",
    "\n",
    "# find all facets on top, bottom and left boundary\n",
    "left_facets = mesh.locate_entities_boundary(msh, fdim, left);\n",
    "right_facets = mesh.locate_entities_boundary(msh, fdim, right);\n",
    "bottom_facets = mesh.locate_entities_boundary(msh, fdim, bottom);\n",
    "top_facets = mesh.locate_entities_boundary(msh, fdim, top);\n",
    "front_facets = mesh.locate_entities_boundary(msh, fdim, front);\n",
    "back_facets = mesh.locate_entities_boundary(msh, fdim, back);"
   ]
  },
  {
   "cell_type": "code",
   "execution_count": 7,
   "id": "eda0cc35-7871-4327-b7c4-c384ae34778a",
   "metadata": {},
   "outputs": [],
   "source": [
    "marked_facets = np.hstack([left_facets, \n",
    "                           right_facets, \n",
    "                           bottom_facets,\n",
    "                           top_facets,\n",
    "                           front_facets,\n",
    "                           back_facets,\n",
    "                          ]);\n",
    "\n",
    "markers = np.hstack([np.full_like(left_facets, 1),\n",
    "                     np.full_like(right_facets, 2),\n",
    "                     np.full_like(bottom_facets, 3),\n",
    "                     np.full_like(top_facets, 4),\n",
    "                     np.full_like(front_facets, 5),\n",
    "                     np.full_like(back_facets, 6),\n",
    "                    ]);\n",
    "\n",
    "facets_order = np.argsort(marked_facets);\n",
    "\n",
    "facets_tags = mesh.meshtags(msh, \n",
    "                            fdim, \n",
    "                            marked_facets[facets_order],\n",
    "                            markers[facets_order]);\n",
    "\n",
    "ds = ufl.Measure('ds', domain=msh, subdomain_data=facets_tags);"
   ]
  },
  {
   "cell_type": "markdown",
   "id": "6734ca6f-c3c0-4d7f-a6e0-cfdd20b87a22",
   "metadata": {},
   "source": [
    "Firstly, we want to compress across Z direction, so\n",
    "1. facets on bottom should be fixed in all diractions $(u_3 = (0.0, 0.0, 0.0)$);\n",
    "2. facets on top should be shifted across Z diraction on unit distance $(u_4 = (0.0, 0.0, 0.1))$;\n",
    "3. facets on other sides should be constrained in XY plane $(u_{i,j} = 0.0$, where $i \\in \\{1, 2, 3, 4\\}$, $j \\in \\{1, 2\\})$;\n",
    "4. *facets on left, right, front and back sides should be shifted according to linear low* $u_{i,3}(z) = \\frac{z-z_{\\min}}{z_{\\max} - z_{\\min}}$"
   ]
  },
  {
   "cell_type": "code",
   "execution_count": 8,
   "id": "30d60c1f-bdb0-4900-9bdc-b67fbedf570b",
   "metadata": {},
   "outputs": [],
   "source": [
    "unit_disp = 0.1;"
   ]
  },
  {
   "cell_type": "code",
   "execution_count": 9,
   "id": "cd21f8af-e028-4151-b699-5a1eb6850586",
   "metadata": {},
   "outputs": [],
   "source": [
    "# apply 1st constraint to the bottom RVE's facet\n",
    "bottom_dofs = fem.locate_dofs_topological(V, \n",
    "                                        facets_tags.dim, \n",
    "                                        facets_tags.find(3)); # since bottom facets has mark 3\n",
    "ub_3 = np.array([0., 0., 0.], dtype = ScalarType);\n",
    "bc_bottom = fem.dirichletbc(ub_3, \n",
    "                       bottom_dofs,\n",
    "                       V);"
   ]
  },
  {
   "cell_type": "code",
   "execution_count": 76,
   "id": "4f8610e3-532a-434a-a717-e96435c3a4fd",
   "metadata": {},
   "outputs": [],
   "source": [
    "# # apply 2nd constraint to the top RVE's facet\n",
    "# top_dofs = fem.locate_dofs_topological(V, \n",
    "#                                            facets_tags.dim, \n",
    "#                                            facets_tags.find(4)); # since top facets has mark 4\n",
    "\n",
    "# ub_4 = np.array([0., 0., unit_disp], dtype = ScalarType);\n",
    "# bc_top = fem.dirichletbc(ub_4,\n",
    "#                        top_dofs,\n",
    "#                        V);"
   ]
  },
  {
   "cell_type": "code",
   "execution_count": 77,
   "id": "cd99f3af-928e-4815-b208-391a871a6821",
   "metadata": {},
   "outputs": [],
   "source": [
    "# # apply 3rd constraint\n",
    "# facets = np.hstack([facets_tags.find(1),\n",
    "#                     facets_tags.find(2), \n",
    "#                     facets_tags.find(5),\n",
    "#                     facets_tags.find(6),\n",
    "#                    ]);\n",
    "# side_xdofs = fem.locate_dofs_topological(V.sub(0),\n",
    "#                                          facets_tags.dim,\n",
    "#                                          facets);\n",
    "# side_ydofs = fem.locate_dofs_topological(V.sub(1),\n",
    "#                                          facets_tags.dim,\n",
    "#                                          facets);\n",
    "\n",
    "# bc_sidex = fem.dirichletbc(ScalarType(0),\n",
    "#                            side_xdofs,\n",
    "#                            V.sub(0));\n",
    "# bc_sidey = fem.dirichletbc(ScalarType(0),\n",
    "#                            side_ydofs,\n",
    "#                            V.sub(1));"
   ]
  },
  {
   "cell_type": "code",
   "execution_count": 78,
   "id": "973b95d2-a956-464d-88d2-94332ac12cf1",
   "metadata": {},
   "outputs": [],
   "source": [
    "# # apply 4th constraint\n",
    "# ub_sidez = fem.Function(V.sub(2).collapse()[0]);\n",
    "\n",
    "# def side_z(x):\n",
    "#     # values = np.zeros(x.shape[1]);\n",
    "#     values = unit_disp*(x[2] - bbox[2])/(bbox[5] - bbox[2]);\n",
    "#     return values;\n",
    "\n",
    "# ub_sidez.interpolate(side_z);\n",
    "\n",
    "# side_zdofs = fem.locate_dofs_topological(V.sub(2),\n",
    "#                                          facets_tags.dim,\n",
    "#                                          facets);\n",
    "# bc_sidez = fem.dirichletbc(ub_sidez,\n",
    "#                            side_zdofs);"
   ]
  },
  {
   "cell_type": "code",
   "execution_count": 11,
   "id": "be94c336-fdc2-4627-a479-1fbd0669e076",
   "metadata": {},
   "outputs": [],
   "source": [
    "# apply 2nd, 3rd and 4th constraints\n",
    "facets = np.hstack([facets_tags.find(1),\n",
    "                    facets_tags.find(2),\n",
    "                    facets_tags.find(4),\n",
    "                    facets_tags.find(5),\n",
    "                    facets_tags.find(6),\n",
    "                   ]);\n",
    "\n",
    "ub_ = fem.Function(V);\n",
    "\n",
    "def full_bc(x):\n",
    "    values = np.zeros(x.shape);\n",
    "    values[2,:] = unit_disp*(x[2] - bbox[2])/(bbox[5] - bbox[2]);\n",
    "    return values;\n",
    "\n",
    "ub_.interpolate(full_bc);\n",
    "\n",
    "nonbottom_dofs = fem.locate_dofs_topological(V,\n",
    "                                         facets_tags.dim,\n",
    "                                         facets);\n",
    "bc_ = fem.dirichletbc(ub_, nonbottom_dofs);"
   ]
  },
  {
   "cell_type": "code",
   "execution_count": 13,
   "id": "a95e31a9-ae80-41aa-853c-38d07bb005f6",
   "metadata": {},
   "outputs": [],
   "source": [
    "# problem = fem.petsc.LinearProblem(a, L, bcs=[bc_bottom, bc_top, bc_sidex, bc_sidey, bc_sidez], petsc_options={\"ksp_type\": \"preonly\", \"pc_type\": \"lu\"})\n",
    "problem = fem.petsc.LinearProblem(a, L, bcs=[bc_bottom, bc_], petsc_options={\"ksp_type\": \"preonly\", \"pc_type\": \"lu\"})\n",
    "\n",
    "uh = problem.solve()"
   ]
  },
  {
   "cell_type": "markdown",
   "id": "53572ac4-8a02-4d22-bde0-a612ec230ec7",
   "metadata": {},
   "source": [
    "## Visualzation"
   ]
  },
  {
   "cell_type": "code",
   "execution_count": 17,
   "id": "c39b3520-013f-4655-99e2-9f98b338b020",
   "metadata": {},
   "outputs": [
    {
     "data": {
      "application/vnd.jupyter.widget-view+json": {
       "model_id": "90cfa5fc4fea4a1991c05fa49f48dce7",
       "version_major": 2,
       "version_minor": 0
      },
      "text/plain": [
       "Renderer(camera=PerspectiveCamera(children=(DirectionalLight(intensity=0.25, position=(0.0, 0.0, 100000.0), qu…"
      ]
     },
     "metadata": {},
     "output_type": "display_data"
    }
   ],
   "source": [
    "uh.name = \"Deformation\"\n",
    "\n",
    "    \n",
    "\n",
    "# # write mesh to XDMF file\n",
    "# with io.XDMFFile(msh.comm, \"out/deformation.xdmf\", \"w\") as xdmf:\n",
    "#     xdmf.write_mesh(msh)\n",
    "#     xdmf.write_function(uh)\n",
    "\n",
    "\n",
    "# visualize using pyvista\n",
    "# to use it, ipycanvas and ipyvtklink py needs to be installed\n",
    "# Just run in terminal:\n",
    "# ~# pip install ipyvtklink ipycanvas\n",
    "pyvista.start_xvfb()\n",
    "\n",
    "# Create plotter and pyvista grid\n",
    "p = pyvista.Plotter(window_size=[400, 400])\n",
    "topology, cell_types, geometry = plot.create_vtk_mesh(msh)\n",
    "grid = pyvista.UnstructuredGrid(topology, cell_types, geometry)\n",
    "\n",
    "# # Attach vector values to grid and warp grid by vector\n",
    "grid[\"u\"] = uh.x.array.reshape((geometry.shape[0], 3))\n",
    "actor_0 = p.add_mesh(grid, style=\"wireframe\", color=\"k\")\n",
    "warped = grid.warp_by_vector(\"u\", factor=5.0)\n",
    "actor_1 = p.add_mesh(warped, show_edges=True)\n",
    "p.show_axes()\n",
    "if not pyvista.OFF_SCREEN:\n",
    "   p.show()\n",
    "else:\n",
    "   figure_as_array = p.screenshot(\"deformation.png\")"
   ]
  },
  {
   "cell_type": "code",
   "execution_count": 29,
   "id": "fa5a2805-a260-4e9d-8329-d20f0f74c7b5",
   "metadata": {},
   "outputs": [],
   "source": [
    "def macro_strain(i):\n",
    "    \"\"\"returns the macroscopic strain for the 3 elementary load cases\"\"\"\n",
    "    ϵ = np.zeros((6,), dtype = np.float64)\n",
    "    ϵ[i] = 1;\n",
    "    ϵ[3:] /= 2;\n",
    "    return np.array([[ϵ[0], ϵ[5], ϵ[4]],\n",
    "                     [ϵ[5], ϵ[1], ϵ[3]],\n",
    "                     [ϵ[4], ϵ[3], ϵ[2]]]);\n",
    "ε = fem.Constant\n",
    "def stress2Voigt(s):\n",
    "    return ufl.as_vector([s[0,0], \n",
    "                          s[1,1], \n",
    "                          s[2,2],\n",
    "                          s[1,2],\n",
    "                          s[0,2],\n",
    "                          s[0,1]])\n"
   ]
  },
  {
   "cell_type": "code",
   "execution_count": 31,
   "id": "2fa5f824-c102-48da-bfd9-a65de4f8431e",
   "metadata": {},
   "outputs": [
    {
     "name": "stdout",
     "output_type": "stream",
     "text": [
      "Solving εxx case...\n",
      "Solving εyy case...\n",
      "Solving εzz case...\n",
      "Solving εyz case...\n",
      "Solving εxz case...\n",
      "Solving εxy case...\n"
     ]
    }
   ],
   "source": [
    "Chom = np.zeros((6, 6));\n",
    "for (j, case) in enumerate([\"εxx\", \"εyy\", \"εzz\", \"εyz\", \"εxz\", \"εxy\"]):\n",
    "    print(\"Solving {} case...\".format(case));\n",
    "    "
   ]
  },
  {
   "cell_type": "code",
   "execution_count": 28,
   "id": "20a75e27-bd41-4c49-9ddf-80eddfb4bbcd",
   "metadata": {},
   "outputs": [
    {
     "data": {
      "text/plain": [
       "ListTensor(IntValue(1), IntValue(2), IntValue(3))"
      ]
     },
     "execution_count": 28,
     "metadata": {},
     "output_type": "execute_result"
    }
   ],
   "source": [
    "ufl.as_vector([1, 2, 3,])"
   ]
  },
  {
   "cell_type": "code",
   "execution_count": null,
   "id": "14a28ffd-ad4f-440e-a80c-4c68a30b3d04",
   "metadata": {},
   "outputs": [],
   "source": []
  }
 ],
 "metadata": {
  "kernelspec": {
   "display_name": "Python 3 (ipykernel)",
   "language": "python",
   "name": "python3"
  },
  "language_info": {
   "codemirror_mode": {
    "name": "ipython",
    "version": 3
   },
   "file_extension": ".py",
   "mimetype": "text/x-python",
   "name": "python",
   "nbconvert_exporter": "python",
   "pygments_lexer": "ipython3",
   "version": "3.10.4"
  }
 },
 "nbformat": 4,
 "nbformat_minor": 5
}
