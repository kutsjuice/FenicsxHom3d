{
 "cells": [
  {
   "cell_type": "code",
   "execution_count": 1,
   "id": "d806def4-6f53-495b-ba43-310241d9d572",
   "metadata": {},
   "outputs": [],
   "source": [
    "import numpy as np\n",
    "import ufl\n",
    "\n",
    "from mpi4py import MPI\n",
    "from petsc4py.PETSc import ScalarType\n",
    "\n",
    "from dolfinx import mesh, fem, plot, io\n",
    "from dolfinx.io import XDMFFile, gmshio\n",
    "import dolfinx.geometry as geo\n",
    "import gmsh\n",
    "\n",
    "import pyvista"
   ]
  },
  {
   "cell_type": "markdown",
   "id": "7793d7b2-dde7-4833-a0fc-a72efdc7d5c6",
   "metadata": {},
   "source": [
    "Defining the phisical properties of fibres"
   ]
  },
  {
   "cell_type": "code",
   "execution_count": 2,
   "id": "66cd7795-695e-407c-9188-8da498b3e48c",
   "metadata": {},
   "outputs": [],
   "source": [
    "ν = 0.3\n",
    "E = 2.1e10\n",
    "\n",
    "λ = ν*E/(1+ν)/(1-2*ν)\n",
    "μ = E/2/(1+ν)\n",
    "\n",
    "ORDER = 2\n",
    "\n",
    "unit_disp = 2.;"
   ]
  },
  {
   "cell_type": "code",
   "execution_count": 3,
   "id": "9a8eb1a5-9239-4fea-80eb-a9d1b116d8eb",
   "metadata": {},
   "outputs": [],
   "source": [
    "## Setting up gmsh properties\n",
    "gmsh.initialize()\n",
    "\n",
    "# Choose if Gmsh output is verbose\n",
    "gmsh.option.setNumber(\"General.Terminal\", 0)\n",
    "\n",
    "# Set elements order to the specified one\n",
    "gmsh.option.setNumber(\"Mesh.ElementOrder\", ORDER)\n",
    "# Set elements size\n",
    "# gmsh.option.setNumber(\"Mesh.MeshSizeFromCurvature\", 5) # uncomment to use for mesh refinement dependending from its surface curvature\n",
    "gmsh.option.setNumber(\"Mesh.MeshSizeMax\", 5e-2)\n",
    "gmsh.option.setNumber(\"Mesh.MeshSizeMin\", 1e-2)\n",
    "\n",
    "# Set threads number for distrebuted meshing\n",
    "# gmsh.option.setNumber(\"Mesh.MaxNumThreads3D\", 4)\n",
    "\n",
    "# Set mesh algorithm (default is Delaunay triangulation)\n",
    "# see https://gmsh.info/doc/texinfo/gmsh.html#Choosing-the-right-unstructured-algorithm\n",
    "gmsh.option.setNumber(\"Mesh.Algorithm3D\", 3)\n",
    "\n",
    "# gmsh.option.setNumber(\"Mesh.RecombinationAlgorithm\",3)\n",
    "# gmsh.option.setNumber(\"Mesh.Recombine3DAll\",1)\n",
    "\n",
    "# Set the usage of hexahedron elements \n",
    "gmsh.option.setNumber(\"Mesh.SubdivisionAlgorithm\", 0)\n",
    "## Importing RVE geometry\n",
    "gmsh.open(\"in/test_rve(tet10)_1.msh\")\n",
    "\n",
    "model = gmsh.model()\n",
    "# model.add(\"main_domain\")\n",
    "model_name = model.getCurrent()\n",
    "tags = [dimtag[1] for dimtag in model.get_entities(3)]\n",
    "\n",
    "model.add_physical_group(dim=3, tags=tags)\n",
    "\n",
    "\n",
    "# Synchronize OpenCascade representation with gmsh model\n",
    "model.occ.synchronize()\n",
    "\n",
    "\n",
    "# Generate the mesh\n",
    "# model.mesh.generate(2)\n",
    "# model.mesh.recombine()\n",
    "model.mesh.generate(dim=3)\n",
    "\n",
    "bbox = [np.Inf,\n",
    "        np.Inf,\n",
    "        np.Inf,\n",
    "        -np.Inf,\n",
    "        -np.Inf,\n",
    "        -np.Inf]\n",
    "for tag in tags:\n",
    "    buf_bbox = model.get_bounding_box(3, tag)\n",
    "    for i in range(3):\n",
    "        if bbox[i] > buf_bbox[i]:\n",
    "            bbox[i] = buf_bbox[i]\n",
    "    for j in range(3,6):\n",
    "        if bbox[j] < buf_bbox[j]:\n",
    "            bbox[j] = buf_bbox[j]\n",
    "            \n",
    "            \n",
    "# Create a DOLFINx mesh (same mesh on each rank)\n",
    "msh, cell_markers, facet_markers = gmshio.model_to_mesh(model, MPI.COMM_SELF,0)\n",
    "msh.name = \"Box\"\n",
    "cell_markers.name = f\"{msh.name}_cells\"\n",
    "facet_markers.name = f\"{msh.name}_facets\"\n",
    "\n",
    "# Finalize gmsh to be able to use it again\n",
    "gmsh.finalize()\n",
    "\n",
    "\n",
    "with io.XDMFFile(msh.comm, \"out/imported_mesh.xdmf\", \"w\") as file:\n",
    "    file.write_mesh(msh)\n",
    "    file.write_meshtags(cell_markers)\n",
    "    msh.topology.create_connectivity(msh.topology.dim - 1, msh.topology.dim)\n",
    "    file.write_meshtags(facet_markers)"
   ]
  },
  {
   "cell_type": "code",
   "execution_count": 4,
   "id": "aaa59723-eb30-44e0-b685-098abe98edba",
   "metadata": {},
   "outputs": [],
   "source": [
    "def epsilon(u):\n",
    "    return ufl.sym(ufl.grad(u)) # Equivalent to 0.5*(ufl.nabla_grad(u) + ufl.nabla_grad(u).T)\n",
    "def sigma(u):\n",
    "    return λ * ufl.nabla_div(u) * ufl.Identity(len(u)) + 2*μ*epsilon(u)\n",
    "\n",
    "\n",
    "V = fem.VectorFunctionSpace(msh, (\"CG\", ORDER))\n",
    "u = ufl.TrialFunction(V)\n",
    "v = ufl.TestFunction(V)\n",
    "f = fem.Constant(msh, ScalarType((0., 0., 0.)))\n",
    "a = ufl.inner(sigma(u), epsilon(v)) * ufl.dx\n",
    "L = ufl.dot(f, v) * ufl.dx #+ ufl.dot(T, v) * ds"
   ]
  },
  {
   "cell_type": "markdown",
   "id": "ea11b63c-5999-41fc-8b1b-51a66f29872b",
   "metadata": {},
   "source": [
    "Marking nodes on each side of the RVE by following:\n",
    "- left (x = -1) - 1;\n",
    "- right (x = 1) - 2;\n",
    "- bottom (z = -1) - 3;\n",
    "- top (z = 1) - 4;\n",
    "- front (y = -1) - 5;\n",
    "- back (y = 1) - 6;"
   ]
  },
  {
   "cell_type": "code",
   "execution_count": 5,
   "id": "dad264d1-708e-4224-8ac6-2f2594195d78",
   "metadata": {},
   "outputs": [],
   "source": [
    "eps = np.linalg.norm(np.array(bbox[0:3]) + np.array(bbox[3:]));"
   ]
  },
  {
   "cell_type": "code",
   "execution_count": 6,
   "id": "89f4d5e7-3ec0-4fb1-8f14-f0218b552fc9",
   "metadata": {},
   "outputs": [],
   "source": [
    "def left(x):\n",
    "    return np.isclose(x[0], bbox[0], atol = eps);\n",
    "\n",
    "def right(x):\n",
    "    return np.isclose(x[0], bbox[3], atol = eps);\n",
    "\n",
    "def bottom(x):\n",
    "    return np.isclose(x[2], bbox[2], atol = eps);\n",
    "\n",
    "def top(x):\n",
    "    return np.isclose(x[2], bbox[5], atol = eps);\n",
    "\n",
    "def front(x):\n",
    "    return np.isclose(x[1], bbox[1], atol = eps);\n",
    "\n",
    "def back(x):\n",
    "    return np.isclose(x[1], bbox[4], atol = eps);\n",
    "\n",
    "fdim = msh.topology.dim - 1\n",
    "\n",
    "# find all facets on top, bottom and left boundary\n",
    "left_facets = mesh.locate_entities_boundary(msh, fdim, left);\n",
    "right_facets = mesh.locate_entities_boundary(msh, fdim, right);\n",
    "bottom_facets = mesh.locate_entities_boundary(msh, fdim, bottom);\n",
    "top_facets = mesh.locate_entities_boundary(msh, fdim, top);\n",
    "front_facets = mesh.locate_entities_boundary(msh, fdim, front);\n",
    "back_facets = mesh.locate_entities_boundary(msh, fdim, back);"
   ]
  },
  {
   "cell_type": "code",
   "execution_count": 7,
   "id": "eda0cc35-7871-4327-b7c4-c384ae34778a",
   "metadata": {},
   "outputs": [],
   "source": [
    "marked_facets = np.hstack([left_facets, \n",
    "                           right_facets, \n",
    "                           bottom_facets,\n",
    "                           top_facets,\n",
    "                           front_facets,\n",
    "                           back_facets,\n",
    "                          ]);\n",
    "\n",
    "markers = np.hstack([np.full_like(left_facets, 1),\n",
    "                     np.full_like(right_facets, 2),\n",
    "                     np.full_like(bottom_facets, 3),\n",
    "                     np.full_like(top_facets, 4),\n",
    "                     np.full_like(front_facets, 5),\n",
    "                     np.full_like(back_facets, 6),\n",
    "                    ]);\n",
    "\n",
    "facets_order = np.argsort(marked_facets);\n",
    "\n",
    "facets_tags = mesh.meshtags(msh, \n",
    "                            fdim, \n",
    "                            marked_facets[facets_order],\n",
    "                            markers[facets_order]);\n",
    "\n",
    "ds = ufl.Measure('ds', domain=msh, subdomain_data=facets_tags);\n"
   ]
  },
  {
   "cell_type": "code",
   "execution_count": 8,
   "id": "e369f1c2-33a0-4808-815e-a963f1b4d08b",
   "metadata": {},
   "outputs": [],
   "source": [
    "def KUBC(x, i, j, ud):\n",
    "    values = np.zeros(x.shape);\n",
    "    \n",
    "    values[i,:] += 0.5*ud*(x[j])/(bbox[j+3] - bbox[j]);\n",
    "    values[j,:] += 0.5*ud*(x[i])/(bbox[i+3] - bbox[i]);\n",
    "\n",
    "    return values;\n",
    "        "
   ]
  },
  {
   "cell_type": "code",
   "execution_count": 9,
   "id": "fa5a2805-a260-4e9d-8329-d20f0f74c7b5",
   "metadata": {},
   "outputs": [],
   "source": [
    "def macro_strain(i):\n",
    "    \"\"\"returns the macroscopic strain for the 3 elementary load cases\"\"\"\n",
    "    ϵ = np.zeros((6,), dtype = np.float64)\n",
    "    ϵ[i] = 1;\n",
    "    ϵ[3:] /= 2;\n",
    "    return np.array([[ϵ[0], ϵ[5], ϵ[4]],\n",
    "                     [ϵ[5], ϵ[1], ϵ[3]],\n",
    "                     [ϵ[4], ϵ[3], ϵ[2]]]);\n",
    "# ε = fem.Constant\n",
    "def stress2Voigt(s):\n",
    "    return ufl.as_vector([s[0,0], \n",
    "                          s[1,1], \n",
    "                          s[2,2],\n",
    "                          s[1,2],\n",
    "                          s[0,2],\n",
    "                          s[0,1]])\n",
    "\n",
    "def strein2Voigt(s):\n",
    "    return ufl.as_vector([s[0,0], \n",
    "                          s[1,1], \n",
    "                          s[2,2],\n",
    "                          2*s[1,2],\n",
    "                          2*s[0,2],\n",
    "                          2*s[0,1]])\n",
    "\n",
    "def indexVoigt(i, j):\n",
    "    if i==j:\n",
    "        return i\n",
    "    elif (i==0):\n",
    "        if (j==1):\n",
    "            return 5;\n",
    "        else:\n",
    "            return 4;\n",
    "    else:\n",
    "        return 3;\n"
   ]
  },
  {
   "cell_type": "markdown",
   "id": "4290b06c-b5c6-498e-bb1f-626ef99917ac",
   "metadata": {},
   "source": [
    "\n",
    "# Homogenization of elastic properties\n",
    "\n",
    "For homogeinzation procedure we wil use the Voigt notation, according to which the stress and strein tensors are represented as a vectors:\n",
    "\n",
    "$$\n",
    "    \\mathbf{\\varepsilon} = \n",
    "    \\left\\{\n",
    "        \\begin{matrix}\n",
    "            \\varepsilon_{11} \\\\ \n",
    "            \\varepsilon_{22} \\\\ \n",
    "            \\varepsilon_{33} \\\\ \n",
    "            \\varepsilon_{23} \\\\ \n",
    "            \\varepsilon_{13} \\\\ \n",
    "            \\varepsilon_{12} \\\\\n",
    "        \\end{matrix}\n",
    "    \\right\\}\n",
    "    = \n",
    "    \\left\\{\n",
    "        \\begin{matrix}\n",
    "            \\varepsilon_{x} \\\\ \n",
    "            \\varepsilon_{y} \\\\ \n",
    "            \\varepsilon_{z} \\\\ \n",
    "            \\gamma_{yz}\\\\\n",
    "            \\gamma_{xz}\\\\\n",
    "            \\gamma_{xy}\\\\ \n",
    "        \\end{matrix}\n",
    "    \\right\\};\\hspace{2cm}\n",
    "    \\mathbf{\\sigma} = \n",
    "    \\left\\{\n",
    "        \\begin{matrix}\n",
    "            \\sigma_{11} \\\\ \n",
    "            \\sigma_{22} \\\\ \n",
    "            \\sigma_{33} \\\\ \n",
    "            \\sigma_{23} \\\\ \n",
    "            \\sigma_{13} \\\\ \n",
    "            \\sigma_{12} \\\\\n",
    "        \\end{matrix}\n",
    "    \\right\\}\n",
    "    = \n",
    "    \\left\\{\n",
    "        \\begin{matrix}\n",
    "            \\sigma_{x} \\\\ \n",
    "            \\sigma_{y} \\\\ \n",
    "            \\sigma_{z} \\\\ \n",
    "            \\tau_{yz}\\\\\n",
    "            \\tau_{xz}\\\\\n",
    "            \\tau_{xy}\\\\ \n",
    "        \\end{matrix}\n",
    "    \\right\\};\n",
    "$$\n",
    "Then the stiffness can be determined as\n",
    "$$\n",
    "    \\hat{\\sigma} = \\mathbf{\\hat{C}}\\hat{\\varepsilon},\n",
    "$$\n",
    "where $\\mathbf{\\hat{C}}$ is averaged matrix of elastic properties, $ \\hat{\\varepsilon}~-$  an average strein within the RVEvolume, which is determined by the BC and $\\hat{\\sigma}~-$  an average stress within the RVE's volume, which is determined according to\n",
    "$$\n",
    "    \\hat{\\sigma} = \\frac{1}{V}\\int_\\Omega{\\sigma (x) dx}, \n",
    "$$\n",
    "where V - RVE volume and $\\Omega$ - RVE domain, so \n",
    "$$\n",
    "    V = \\int_\\Omega{dx}, \n",
    "$$\n",
    "\n",
    "To determine an avarage elastic properties of the material we need to solve 6 different  boundary problems:\n",
    "$$\n",
    "    \\hat{\\varepsilon}_{1} = \n",
    "    \\left\\{\n",
    "        \\begin{matrix} 1\\\\ 0\\\\ 0\\\\ 0\\\\ 0\\\\ 0\\\\ \\end{matrix}\n",
    "    \\right\\};\\ \n",
    "    \\hat{\\varepsilon}_{2} = \n",
    "    \\left\\{\n",
    "        \\begin{matrix} 0\\\\ 1\\\\ 0\\\\ 0\\\\ 0\\\\ 0\\\\ \\end{matrix}\n",
    "    \\right\\};\\ \n",
    "    \\hat{\\varepsilon}_{3} = \n",
    "    \\left\\{\n",
    "        \\begin{matrix} 0\\\\ 0\\\\ 1\\\\ 0\\\\ 0\\\\ 0\\\\ \\end{matrix}\n",
    "    \\right\\};\\ \n",
    "    \\hat{\\varepsilon}_{4} = \n",
    "    \\left\\{\n",
    "        \\begin{matrix} 0\\\\ 0\\\\ 0\\\\ 1\\\\ 0\\\\ 0\\\\ \\end{matrix}\n",
    "    \\right\\};\\ \n",
    "    \\hat{\\varepsilon}_{5} = \n",
    "    \\left\\{\n",
    "        \\begin{matrix} 0\\\\ 0\\\\ 0\\\\ 0\\\\ 1\\\\ 0\\\\ \\end{matrix}\n",
    "    \\right\\};\\ \n",
    "    \\hat{\\varepsilon}_{6} = \n",
    "    \\left\\{\n",
    "        \\begin{matrix} 0\\\\ 0\\\\ 0\\\\ 0\\\\ 0\\\\ 1\\\\ \\end{matrix}\n",
    "    \\right\\};\\\n",
    "$$\n",
    "\n",
    "in each case we obtain we obtain a certain value of Voigt stress vector. Full series of calculation will give us following SLE:\n",
    "\n",
    "$$\n",
    "    \\begin{bmatrix}\n",
    "        \\hat{\\sigma}_{x}^1 & \\hat{\\sigma}_{x}^2 & \\hat{\\sigma}_{x}^3 & \\hat{\\sigma}_{x}^4 & \\hat{\\sigma}_{x}^5 & \\hat{\\sigma}_{x}^6 \\\\\n",
    "        \\hat{\\sigma}_{y}^1 & \\hat{\\sigma}_{y}^2 & \\hat{\\sigma}_{y}^3 & \\hat{\\sigma}_{y}^4 & \\hat{\\sigma}_{y}^5 & \\hat{\\sigma}_{y}^6 \\\\ \n",
    "        \\hat{\\sigma}_{z}^1 & \\hat{\\sigma}_{z}^2 & \\hat{\\sigma}_{z}^3 & \\hat{\\sigma}_{z}^4 & \\hat{\\sigma}_{z}^5 & \\hat{\\sigma}_{z}^6 \\\\ \n",
    "        \\hat{\\tau}_{yz}^1 & \\hat{\\tau}_{yz}^2 & \\hat{\\tau}_{yz}^3 & \\hat{\\tau}_{yz}^4 & \\hat{\\tau}_{yz}^5 & \\hat{\\tau}_{yz}^6 \\\\ \n",
    "        \\hat{\\tau}_{xz}^1 & \\hat{\\tau}_{xz}^2 & \\hat{\\tau}_{xz}^3 & \\hat{\\tau}_{xz}^4 & \\hat{\\tau}_{xz}^5 & \\hat{\\tau}_{xz}^6 \\\\\n",
    "        \\hat{\\tau}_{xy}^1 & \\hat{\\tau}_{xy}^2 & \\hat{\\tau}_{xy}^3 & \\hat{\\tau}_{xy}^4 & \\hat{\\tau}_{xy}^5 & \\hat{\\tau}_{xy}^6 \\\\\n",
    "    \\end{bmatrix}\n",
    "    =\n",
    "    \\mathbf{\\hat{C}}\n",
    "    \\begin{bmatrix}\n",
    "        1 & 0 & 0 & 0 & 0 & 0 \\\\\n",
    "        0 & 1 & 0 & 0 & 0 & 0 \\\\\n",
    "        0 & 0 & 1 & 0 & 0 & 0 \\\\\n",
    "        0 & 0 & 0 & 1 & 0 & 0 \\\\\n",
    "        0 & 0 & 0 & 0 & 1 & 0 \\\\\n",
    "        0 & 0 & 0 & 0 & 0 & 1 \\\\\n",
    "    \\end{bmatrix}\n",
    "$$\n",
    "since Voigt strein matrix actualy is a unit matrix, then the avareged elastic matrix $\\mathbf{\\hat{C}}$ will be equal to the matrix of calulated stress \n",
    "$\\begin{bmatrix} \\hat{\\sigma}^1 &\\hat{\\sigma}^2 & \\hat{\\sigma}^3 & \\hat{\\sigma}^4 & \\hat{\\sigma}^5 & \\hat{\\sigma}^6 \\end{bmatrix}$"
   ]
  },
  {
   "cell_type": "code",
   "execution_count": 10,
   "id": "02ba69e4-51e3-4539-9da9-f4e51eac9827",
   "metadata": {},
   "outputs": [],
   "source": [
    "m_σ = np.zeros((6,6), dtype = np.float64);\n",
    "m_ε = np.zeros((6,6), dtype = np.float64);"
   ]
  },
  {
   "cell_type": "code",
   "execution_count": 11,
   "id": "e35b0b10-f76e-4040-a75e-382930eb7bc5",
   "metadata": {},
   "outputs": [
    {
     "name": "stdout",
     "output_type": "stream",
     "text": [
      "εxx = 0.5245035061680029; σxx = 13745587513.813013 \n",
      "εyy = -0.08215958993506964; σyy = 3945645192.148142 \n",
      "εzz = -0.007125494745372292; σzz = 5157734422.135531 \n",
      "εyz = 0.022291711332230815; σyz = 180048437.68340194 \n",
      "εxz = -0.07791824214207069; σxz = -629339648.0705653 \n",
      "εxy = 0.020159504853293757; σxy = 162826769.9689095 \n",
      "εxx = 0.003427037295031701; σxx = 162818220.1362468 \n",
      "εyy = 0.007181176568471123; σyy = 223462008.39949805 \n",
      "εzz = -0.0017386327218231964; σzz = 79372781.40243511 \n",
      "εyz = -0.03191393517078356; σyz = -257766399.45632276 \n",
      "εxz = 0.021497867557683938; σxz = 173636622.58129635 \n",
      "εxy = 0.6115601399571399; σxy = 4939524207.346016 \n",
      "εxx = -0.011515572253826954; σxx = -629288959.1152463 \n",
      "εyy = 0.005318570981053152; σyy = -357352799.1671865 \n",
      "εzz = -0.03039021329989044; σzz = -934187006.782416 \n",
      "εyz = 0.0008161429162284283; σyz = 6591923.55415288 \n",
      "εxz = 0.7379274426046882; σxz = 5960183190.268742 \n",
      "εxy = 0.02150255564214303; σxy = 173674487.87884703 \n",
      "εxx = -0.07626033516564204; σxx = 3937494322.7040687 \n",
      "εyy = 0.5035028297470402; σyy = 13302899294.370676 \n",
      "εzz = -0.0005625162960797078; σzz = 5160305242.904728 \n",
      "εyz = 0.059182798902872535; σyz = 478014914.2155066 \n",
      "εxz = -0.04415849729850871; σxz = -356664785.87256634 \n",
      "εxy = 0.027621206740250977; σxy = 223094362.1327952 \n",
      "εxx = -0.006398867966585931; σxx = 179871849.79612452 \n",
      "εyy = 0.012066933076364356; σyy = 478165558.9514757 \n",
      "εzz = 0.01771032422566684; σzz = 569328031.3632758 \n",
      "εyz = 0.7495953671280099; σyz = 6054424119.110823 \n",
      "εxz = 0.0008138892813217787; σxz = 6573721.118368356 \n",
      "εxy = -0.0319063307913702; σxy = -257704979.46875829 \n",
      "εxx = -0.13826946400419182; σxx = 5157682814.465454 \n",
      "εyy = -0.13745935822882516; σyy = 5170769138.529087 \n",
      "εzz = 0.8858016097183004; σzz = 21700369389.982655 \n",
      "εyz = 0.07052530613686156; σyz = 569627472.6438837 \n",
      "εxz = -0.11564970048870858; σxz = -934093734.7164805 \n",
      "εxy = 0.00983962068871252; σxy = 79473859.40883017 \n"
     ]
    }
   ],
   "source": [
    "dx = ufl.Measure('dx', domain=msh);\n",
    "volume = fem.assemble_scalar(fem.form(fem.Constant(msh, ScalarType(1.0)) * dx));\n",
    "for i in range(3):\n",
    "    for j in range(i,3):\n",
    "\n",
    "        ub_ = fem.Function(V);\n",
    "        full_bc = lambda x: KUBC(x, i,j, unit_disp);\n",
    "        ub_.interpolate(full_bc);\n",
    "        nonbottom_dofs = fem.locate_dofs_topological(V,\n",
    "                                                 facets_tags.dim,\n",
    "                                                 marked_facets);\n",
    "        bc_ = fem.dirichletbc(ub_, nonbottom_dofs);\n",
    "        problem = fem.petsc.LinearProblem(a, L, bcs=[bc_], petsc_options={\"ksp_type\": \"preonly\", \"pc_type\": \"lu\"})\n",
    "\n",
    "        uh = problem.solve()\n",
    "        for (k, case) in enumerate([\"xx\", \"yy\", \"zz\", \"yz\", \"xz\", \"xy\"]):\n",
    "            ϵ_i = fem.assemble_scalar(fem.form(strein2Voigt(epsilon(uh))[k]*dx)) / volume;\n",
    "            σ_i = fem.assemble_scalar(fem.form(stress2Voigt(sigma(uh))[k]*dx)) / volume;\n",
    "            m_σ[indexVoigt(i, j), k] = σ_i;\n",
    "            m_ε[indexVoigt(i, j), k] = ϵ_i;\n",
    "            print(\"ε{} = {}; σ{} = {} \".format(case, ϵ_i, case, σ_i));\n"
   ]
  },
  {
   "cell_type": "code",
   "execution_count": 12,
   "id": "e5ee7a80-afdd-4866-96db-7a8ea3285d92",
   "metadata": {},
   "outputs": [
    {
     "data": {
      "text/plain": [
       "array([[ 1.37e+10,  3.95e+09,  5.16e+09,  1.80e+08, -6.29e+08,  1.63e+08],\n",
       "       [ 3.94e+09,  1.33e+10,  5.16e+09,  4.78e+08, -3.57e+08,  2.23e+08],\n",
       "       [ 5.16e+09,  5.17e+09,  2.17e+10,  5.70e+08, -9.34e+08,  7.95e+07],\n",
       "       [ 1.80e+08,  4.78e+08,  5.69e+08,  6.05e+09,  6.57e+06, -2.58e+08],\n",
       "       [-6.29e+08, -3.57e+08, -9.34e+08,  6.59e+06,  5.96e+09,  1.74e+08],\n",
       "       [ 1.63e+08,  2.23e+08,  7.94e+07, -2.58e+08,  1.74e+08,  4.94e+09]])"
      ]
     },
     "execution_count": 12,
     "metadata": {},
     "output_type": "execute_result"
    }
   ],
   "source": [
    "np.set_printoptions(precision=2, suppress=True);\n",
    "m_σ"
   ]
  },
  {
   "cell_type": "code",
   "execution_count": 13,
   "id": "abce3fb1-2b50-4e64-9fb2-4c31a4a55c3a",
   "metadata": {},
   "outputs": [
    {
     "data": {
      "text/plain": [
       "array([[ 0.52, -0.08, -0.01,  0.02, -0.08,  0.02],\n",
       "       [-0.08,  0.5 , -0.  ,  0.06, -0.04,  0.03],\n",
       "       [-0.14, -0.14,  0.89,  0.07, -0.12,  0.01],\n",
       "       [-0.01,  0.01,  0.02,  0.75,  0.  , -0.03],\n",
       "       [-0.01,  0.01, -0.03,  0.  ,  0.74,  0.02],\n",
       "       [ 0.  ,  0.01, -0.  , -0.03,  0.02,  0.61]])"
      ]
     },
     "execution_count": 13,
     "metadata": {},
     "output_type": "execute_result"
    }
   ],
   "source": [
    "m_ε"
   ]
  },
  {
   "cell_type": "code",
   "execution_count": 14,
   "id": "5cc607db-817c-4947-af7f-7d13c1c1e1f0",
   "metadata": {},
   "outputs": [],
   "source": [
    "np.savetxt(\"epsilon.txt\", m_ε, delimiter = \", \")"
   ]
  },
  {
   "cell_type": "code",
   "execution_count": 15,
   "id": "1e54cf97-434a-495d-81b9-d385227d0198",
   "metadata": {},
   "outputs": [],
   "source": [
    "import matplotlib.pyplot as plt"
   ]
  },
  {
   "cell_type": "code",
   "execution_count": 16,
   "id": "14eaf248-6370-40ae-abb6-1e3437ed1fab",
   "metadata": {},
   "outputs": [
    {
     "data": {
      "text/plain": [
       "<matplotlib.colorbar.Colorbar at 0x7f931bb81e40>"
      ]
     },
     "execution_count": 16,
     "metadata": {},
     "output_type": "execute_result"
    },
    {
     "data": {
      "image/png": "[encoded data removed]",
      "text/plain": [
       "<Figure size 640x480 with 4 Axes>"
      ]
     },
     "metadata": {},
     "output_type": "display_data"
    }
   ],
   "source": [
    "plt.subplot(121)\n",
    "plt.imshow(m_ε)\n",
    "plt.colorbar()\n",
    "plt.subplot(122)\n",
    "plt.imshow(m_σ)\n",
    "plt.colorbar()\n"
   ]
  },
  {
   "cell_type": "code",
   "execution_count": 17,
   "id": "fe1c3abe-a743-401e-b671-60043355c8f1",
   "metadata": {},
   "outputs": [
    {
     "data": {
      "text/plain": [
       "array([[ 3.00e+10,  1.45e+10,  6.26e+09, -2.47e+09,  4.22e+09, -1.76e+09],\n",
       "       [ 1.36e+10,  3.04e+10,  6.14e+09, -2.82e+09,  3.79e+09, -1.83e+09],\n",
       "       [ 1.95e+10,  2.03e+10,  2.49e+10, -3.87e+09,  5.98e+09, -2.24e+09],\n",
       "       [ 7.24e+08,  1.01e+09,  4.98e+08,  7.92e+09,  2.18e+08, -9.32e+07],\n",
       "       [-1.42e+09, -1.25e+09, -8.06e+08,  2.23e+08,  7.72e+09,  1.41e+08],\n",
       "       [ 3.49e+08,  4.17e+08,  1.12e+08, -5.56e+07,  8.06e+07,  8.04e+09]])"
      ]
     },
     "execution_count": 17,
     "metadata": {},
     "output_type": "execute_result"
    }
   ],
   "source": [
    "C = m_σ @ np.linalg.inv(m_ε)\n",
    "C"
   ]
  },
  {
   "cell_type": "code",
   "execution_count": 18,
   "id": "bc73b49d-71e9-4636-9bab-ea3aa37ea7fd",
   "metadata": {},
   "outputs": [
    {
     "data": {
      "text/plain": [
       "<matplotlib.colorbar.Colorbar at 0x7f92fa9328c0>"
      ]
     },
     "execution_count": 18,
     "metadata": {},
     "output_type": "execute_result"
    },
    {
     "data": {
      "image/png": "[encoded data removed]",
      "text/plain": [
       "<Figure size 640x480 with 2 Axes>"
      ]
     },
     "metadata": {},
     "output_type": "display_data"
    }
   ],
   "source": [
    "plt.imshow(C); plt.colorbar()"
   ]
  },
  {
   "cell_type": "code",
   "execution_count": null,
   "id": "f425de4f-c2cd-4390-bed9-50671b679bbb",
   "metadata": {},
   "outputs": [],
   "source": []
  }
 ],
 "metadata": {
  "kernelspec": {
   "display_name": "Python 3 (ipykernel)",
   "language": "python",
   "name": "python3"
  },
  "language_info": {
   "codemirror_mode": {
    "name": "ipython",
    "version": 3
   },
   "file_extension": ".py",
   "mimetype": "text/x-python",
   "name": "python",
   "nbconvert_exporter": "python",
   "pygments_lexer": "ipython3",
   "version": "3.10.4"
  }
 },
 "nbformat": 4,
 "nbformat_minor": 5
}
